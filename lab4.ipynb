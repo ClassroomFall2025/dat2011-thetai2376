{
 "cells": [
  {
   "cell_type": "markdown",
   "id": "fdeff819",
   "metadata": {},
   "source": [
    "# Sinh Viên thực hiện Lab 4 ở Đây"
   ]
  },
  {
   "cell_type": "markdown",
   "id": "acc5d7dc",
   "metadata": {},
   "source": [
    "## Lab 1 - Bài 1"
   ]
  },
  {
   "cell_type": "code",
   "execution_count": 1,
   "id": "001e0507",
   "metadata": {},
   "outputs": [
    {
     "name": "stdout",
     "output_type": "stream",
     "text": [
      "=== CHƯƠNG TRÌNH TÍNH TIỀN NƯỚC ===\n",
      "Số m³ đã dùng: 15\n",
      "Số tiền phải trả: 119,000 đồng\n"
     ]
    }
   ],
   "source": [
    "# Code lab 4 bài 1 ở đây\n",
    "\n",
    "\n",
    "def tinh_tien_nuoc(so_m3):\n",
    "    gia_ban_nuoc = (7500, 8800, 12000, 24000)\n",
    "    tien = 0\n",
    "    if so_m3 <= 10:  \n",
    "        tien = so_m3 * gia_ban_nuoc[0]\n",
    "    elif so_m3 <= 20:  \n",
    "        tien = 10 * gia_ban_nuoc[0] + (so_m3 - 10) * gia_ban_nuoc[1]\n",
    "    elif so_m3 <= 30: \n",
    "        tien = 10 * gia_ban_nuoc[0] + 10 * gia_ban_nuoc[1] + (so_m3 - 20) * gia_ban_nuoc[2]\n",
    "    else:  \n",
    "        tien = (10 * gia_ban_nuoc[0] +\n",
    "                10 * gia_ban_nuoc[1] +\n",
    "                10 * gia_ban_nuoc[2] +\n",
    "                (so_m3 - 30) * gia_ban_nuoc[3])\n",
    "\n",
    "    return tien\n",
    "\n",
    "print(\"=== CHƯƠNG TRÌNH TÍNH TIỀN NƯỚC ===\")\n",
    "so_m3 = int(input(\"Nhập số m³ nước đã sử dụng trong tháng: \"))\n",
    "\n",
    "tien_phai_tra = tinh_tien_nuoc(so_m3)\n",
    "\n",
    "print(f\"Số m³ đã dùng: {so_m3}\")\n",
    "print(f\"Số tiền phải trả: {tien_phai_tra:,} đồng\")\n"
   ]
  },
  {
   "cell_type": "markdown",
   "id": "c0835310",
   "metadata": {},
   "source": [
    "## Lab 4 - Bài 2"
   ]
  },
  {
   "cell_type": "code",
   "execution_count": 3,
   "id": "fa9cb39f",
   "metadata": {},
   "outputs": [
    {
     "name": "stdout",
     "output_type": "stream",
     "text": [
      "=== TÍNH NGUYÊN LIỆU HỘP BÁNH ===\n",
      "\n",
      "Nguyên liệu cần chuẩn bị:\n",
      "- Đường: 0.73 kg\n",
      "- Đậu: 0.73 kg\n"
     ]
    }
   ],
   "source": [
    "# Code lab 4  bài 2 ở đây\n",
    "\n",
    "def tinh_nguyen_lieu(banh_xanh, banh_thapcam, banh_deo):\n",
    "    duong_xanh, dau_xanh = 0.04, 0.07\n",
    "    duong_thapcam, dau_thapcam = 0.06, 0.08\n",
    "    duong_deo, dau_deo = 0.05, 0.02\n",
    "\n",
    "    tong_duong = (banh_xanh * duong_xanh +\n",
    "                  banh_thapcam * duong_thapcam +\n",
    "                  banh_deo * duong_deo)\n",
    "\n",
    "    tong_dau = (banh_xanh * dau_xanh +\n",
    "                banh_thapcam * dau_thapcam +\n",
    "                banh_deo * dau_deo)\n",
    "\n",
    "    ket_qua = {\n",
    "        \"Duong\": tong_duong,\n",
    "        \"Dau\": tong_dau\n",
    "    }\n",
    "    return ket_qua\n",
    "print(\"=== TÍNH NGUYÊN LIỆU HỘP BÁNH ===\")\n",
    "\n",
    "bx = int(input(\"Nhập số bánh đậu xanh: \"))\n",
    "btc = int(input(\"Nhập số bánh thập cẩm: \"))\n",
    "bd = int(input(\"Nhập số bánh dẻo: \"))\n",
    "\n",
    "nguyen_lieu = tinh_nguyen_lieu(bx, btc, bd)\n",
    "\n",
    "print(\"\\nNguyên liệu cần chuẩn bị:\")\n",
    "print(\"- Đường:\", round(nguyen_lieu[\"Duong\"], 2), \"kg\")\n",
    "print(\"- Đậu:\", round(nguyen_lieu[\"Dau\"], 2), \"kg\")\n"
   ]
  },
  {
   "cell_type": "markdown",
   "id": "0f2483fe",
   "metadata": {},
   "source": [
    "## Lab 4 - Bài 3"
   ]
  },
  {
   "cell_type": "code",
   "execution_count": null,
   "id": "7034990b",
   "metadata": {},
   "outputs": [
    {
     "name": "stdout",
     "output_type": "stream",
     "text": [
      "=== BÀI 3: LỌC SỐ CHẴN TRONG DÃY SỐ ===\n",
      "\n",
      "Danh sách số đã nhập: [4, 3, 2, 5, 6, 7, 4, 3, 2]\n",
      "Các số chẵn trong danh sách: [4, 2, 6, 4, 2]\n"
     ]
    }
   ],
   "source": [
    "# Code lab 4  bài 3 ở đây\n",
    "\n",
    "print(\"=== BÀI 3: LỌC SỐ CHẴN TRONG DÃY SỐ ===\")\n",
    "ds = []   \n",
    "\n",
    "while True:\n",
    "    x = input(\"Nhập số nguyên (gõ 'stop' để kết thúc): \")\n",
    "    if x.lower() == \"stop\":   \n",
    "        break\n",
    "    if not x.lstrip(\"-\").isdigit():   \n",
    "        print(\" Vui lòng nhập số nguyên hợp lệ!\")\n",
    "        continue\n",
    "    ds.append(int(x))   \n",
    "\n",
    "so_chan = list(filter(lambda n: n % 2 == 0, ds))\n",
    "\n",
    "print(\"\\nDanh sách số đã nhập:\", ds)\n",
    "print(\"Các số chẵn trong danh sách:\", so_chan)\n"
   ]
  },
  {
   "cell_type": "markdown",
   "id": "d36ea3d3",
   "metadata": {},
   "source": [
    "## Lab 4 - Bài 4"
   ]
  },
  {
   "cell_type": "code",
   "execution_count": 5,
   "id": "4c707ec1",
   "metadata": {},
   "outputs": [
    {
     "name": "stdout",
     "output_type": "stream",
     "text": [
      "\n",
      "===== MENU CHÍNH =====\n",
      "1. Tính tiền nước sinh hoạt\n",
      "2. Tính nguyên liệu làm bánh\n",
      "3. Lọc số chẵn trong dãy số\n",
      "4. Thoát chương trình\n",
      "Danh sách đã nhập: [1, 2, 3, 4, 5, 6, 7]\n",
      "Số chẵn: [2, 4, 6]\n",
      "\n",
      "===== MENU CHÍNH =====\n",
      "1. Tính tiền nước sinh hoạt\n",
      "2. Tính nguyên liệu làm bánh\n",
      "3. Lọc số chẵn trong dãy số\n",
      "4. Thoát chương trình\n",
      " Thoát chương trình. Tạm biệt!\n"
     ]
    }
   ],
   "source": [
    "# code lab 4 bài 4 ở đây\n",
    "# ------------------- Bài 1 -------------------\n",
    "def tinh_tien_nuoc(so_m3):\n",
    "    gia_ban_nuoc = (7500, 8800, 12000, 24000)\n",
    "    if so_m3 <= 10:\n",
    "        return so_m3 * gia_ban_nuoc[0]\n",
    "    elif so_m3 <= 20:\n",
    "        return 10 * gia_ban_nuoc[0] + (so_m3 - 10) * gia_ban_nuoc[1]\n",
    "    elif so_m3 <= 30:\n",
    "        return 10 * gia_ban_nuoc[0] + 10 * gia_ban_nuoc[1] + (so_m3 - 20) * gia_ban_nuoc[2]\n",
    "    else:\n",
    "        return (10 * gia_ban_nuoc[0] + 10 * gia_ban_nuoc[1] +\n",
    "                10 * gia_ban_nuoc[2] + (so_m3 - 30) * gia_ban_nuoc[3])\n",
    "\n",
    "\n",
    "# ------------------- Bài 2 -------------------\n",
    "def tinh_nguyen_lieu(banh_xanh, banh_thapcam, banh_deo):\n",
    "    duong_xanh, dau_xanh = 0.04, 0.07\n",
    "    duong_thapcam, dau_thapcam = 0.06, 0.08\n",
    "    duong_deo, dau_deo = 0.05, 0.02\n",
    "\n",
    "    duong = banh_xanh * duong_xanh + banh_thapcam * duong_thapcam + banh_deo * duong_deo\n",
    "    dau = banh_xanh * dau_xanh + banh_thapcam * dau_thapcam + banh_deo * dau_deo\n",
    "\n",
    "    return {\"Đường\": duong, \"Đậu\": dau}\n",
    "\n",
    "\n",
    "# ------------------- Bài 3 -------------------\n",
    "def loc_so_chan():\n",
    "    ds = []\n",
    "    while True:\n",
    "        x = input(\"Nhập số nguyên (gõ 'stop' để kết thúc): \")\n",
    "        if x.lower() == \"stop\":\n",
    "            break\n",
    "        if not x.lstrip(\"-\").isdigit():\n",
    "            print(\" Vui lòng nhập số nguyên hợp lệ!\")\n",
    "            continue\n",
    "        ds.append(int(x))\n",
    "    so_chan = list(filter(lambda n: n % 2 == 0, ds))\n",
    "    print(\"Danh sách đã nhập:\", ds)\n",
    "    print(\"Số chẵn:\", so_chan)\n",
    "\n",
    "\n",
    "# ------------------- Bài 4: MENU -------------------\n",
    "while True:\n",
    "    print(\"\\n===== MENU CHÍNH =====\")\n",
    "    print(\"1. Tính tiền nước sinh hoạt\")\n",
    "    print(\"2. Tính nguyên liệu làm bánh\")\n",
    "    print(\"3. Lọc số chẵn trong dãy số\")\n",
    "    print(\"4. Thoát chương trình\")\n",
    "\n",
    "    chon = input(\"Chọn chức năng (1-4): \")\n",
    "\n",
    "    if chon == \"1\":\n",
    "        m3 = int(input(\"Nhập số m³ nước đã dùng: \"))\n",
    "        print(\"Tiền nước phải trả:\", tinh_tien_nuoc(m3), \"đồng\")\n",
    "\n",
    "    elif chon == \"2\":\n",
    "        bx = int(input(\"Nhập số bánh đậu xanh: \"))\n",
    "        btc = int(input(\"Nhập số bánh thập cẩm: \"))\n",
    "        bd = int(input(\"Nhập số bánh dẻo: \"))\n",
    "        kq = tinh_nguyen_lieu(bx, btc, bd)\n",
    "        print(\"Nguyên liệu cần chuẩn bị:\", kq)\n",
    "\n",
    "    elif chon == \"3\":\n",
    "        loc_so_chan()\n",
    "\n",
    "    elif chon == \"4\":\n",
    "        print(\" Thoát chương trình. Tạm biệt!\")\n",
    "        break\n",
    "\n",
    "    else:\n",
    "        print(\" Lựa chọn không hợp lệ, vui lòng nhập 1-4!\")\n"
   ]
  },
  {
   "cell_type": "markdown",
   "id": "e2b41d4a",
   "metadata": {},
   "source": [
    "## Lab 4 - Bài 5: bài tập làm thêm"
   ]
  },
  {
   "cell_type": "code",
   "execution_count": null,
   "id": "0e0172f7",
   "metadata": {},
   "outputs": [],
   "source": [
    "# code lab 4  bài làm thêm ở đây "
   ]
  }
 ],
 "metadata": {
  "kernelspec": {
   "display_name": "Python 3",
   "language": "python",
   "name": "python3"
  },
  "language_info": {
   "codemirror_mode": {
    "name": "ipython",
    "version": 3
   },
   "file_extension": ".py",
   "mimetype": "text/x-python",
   "name": "python",
   "nbconvert_exporter": "python",
   "pygments_lexer": "ipython3",
   "version": "3.13.7"
  }
 },
 "nbformat": 4,
 "nbformat_minor": 5
}
