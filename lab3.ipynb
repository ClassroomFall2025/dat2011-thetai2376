{
 "cells": [
  {
   "cell_type": "markdown",
   "id": "fdeff819",
   "metadata": {},
   "source": [
    "# Sinh Viên thực hiện Lab 3 ở Đây"
   ]
  },
  {
   "cell_type": "markdown",
   "id": "acc5d7dc",
   "metadata": {},
   "source": [
    "## Lab 3 - Bài 1"
   ]
  },
  {
   "cell_type": "code",
   "execution_count": null,
   "id": "001e0507",
   "metadata": {},
   "outputs": [],
   "source": [
    "# Code lab 3 bài 1 ở đây\n",
    "DaySo= []\n",
    "\n",
    "while True:\n",
    "    so = input(\"Nhap so: \")\n",
    "    if so.lower() == \"q\":\n",
    "        print(\"Thoat khong nhap!\")\n",
    "        break\n",
    "    else:\n",
    "        try:\n",
    "            PhanTu = int(so)\n",
    "            DaySo.append(PhanTu)\n",
    "        except ValueError:\n",
    "            print(\"Vui lòng nhập số hoặc 'Q' để thoát.\")\n",
    "print(DaySo)\n",
    "#sắp xếp dãy số tăng dần\n",
    "DaySo.sort()\n",
    "print(\"Dãy số đã sắp xếp tăng dần:\")\n",
    "print(DaySo)\n",
    "print(\"Giá trị lớn nhất: \", DaySo [0])\n",
    "print(\"Giá trị nhỏ nhất: \", DaySo [-1])\n",
    "# Sắp xếp dãy số giảm dần\n",
    "DaySo.sort(reverse=True)\n",
    "print(\"Dãy số đã sắp xếp giảm dần:\")\n",
    "print(DaySo)\n",
    "if DaySo:\n",
    "    print(\"Giá trị lớn nhất:\", DaySo[0])\n",
    "    print(\"Giá trị nhỏ nhất:\", DaySo[-1])\n",
    "else:\n",
    "    print(\"Danh sách rỗng!\")\n",
    "    \n",
    "Tong = 0\n",
    "Dem = 0\n",
    "for PhanTu in DaySo:\n",
    "    if PhanTu % 3 == 0:\n",
    "        Tong += PhanTu\n",
    "        Dem += 1\n",
    "print(\"Tổng các phần tử chia hết cho 3:\", Tong)\n",
    "print(\"Số lượng phần tử chia hết cho 3:\", Dem)"
   ]
  },
  {
   "cell_type": "markdown",
   "id": "c0835310",
   "metadata": {},
   "source": [
    "## Lab 3 - Bài 2"
   ]
  },
  {
   "cell_type": "code",
   "execution_count": null,
   "id": "fa9cb39f",
   "metadata": {},
   "outputs": [],
   "source": [
    "# Code lab 3  bài 2 ở đây\n",
    "sinh_vien = {}\n",
    "sinh_vien[\"ho_ten\"] = input(\"Nhập họ tên sinh viên: \")\n",
    "sinh_vien[\"diem\"] = float(input(\"Nhập điểm của sinh viên: \"))\n",
    "\n",
    "def xep_loai(diem):\n",
    "    if diem < 5:\n",
    "        return \"Yếu\"\n",
    "    elif diem < 7:\n",
    "        return \"Trung bình\"\n",
    "    elif diem < 8:\n",
    "        return \"Khá\"\n",
    "    elif diem < 9:\n",
    "        return \"Giỏi\"\n",
    "    else:\n",
    "        return \"Xuất sắc\"\n",
    "\n",
    "sinh_vien[\"xep_loai\"] = xep_loai(sinh_vien[\"diem\"])\n",
    "\n",
    "print(\"\\n--- Thông tin sinh viên ---\")\n",
    "print(\"Họ tên:\", sinh_vien[\"ho_ten\"])\n",
    "print(\"Điểm:\", sinh_vien[\"diem\"])\n",
    "print(\"Xếp loại:\", sinh_vien[\"xep_loai\"])\n"
   ]
  },
  {
   "cell_type": "code",
   "execution_count": null,
   "id": "111fc157",
   "metadata": {},
   "outputs": [],
   "source": [
    "def xep_loai(diem):\n",
    "    if diem < 5:\n",
    "        return \"Yếu\"\n",
    "    elif diem < 7:\n",
    "        return \"Trung bình\"\n",
    "    elif diem < 8:\n",
    "        return \"Khá\"\n",
    "    elif diem < 9:\n",
    "        return \"Giỏi\"\n",
    "    else:\n",
    "        return \"Xuất sắc\"\n",
    "\n",
    "danh_sach = []\n",
    "\n",
    "n = int(input(\"Nhập số lượng sinh viên: \"))\n",
    "for i in range(n):\n",
    "    print(f\"\\n--- Nhập sinh viên {i+1} ---\")\n",
    "    sv = {}\n",
    "    sv[\"ho_ten\"] = input(\"Họ tên: \")\n",
    "    sv[\"diem\"] = float(input(\"Điểm: \"))\n",
    "    sv[\"xep_loai\"] = xep_loai(sv[\"diem\"])\n",
    "    danh_sach.append(sv)\n",
    "\n",
    "print(\"\\n====== DANH SÁCH SINH VIÊN ======\")\n",
    "for sv in danh_sach:\n",
    "    print(f\"Họ tên: {sv['ho_ten']}, Điểm: {sv['diem']}, Xếp loại: {sv['xep_loai']}\")\n"
   ]
  },
  {
   "cell_type": "markdown",
   "id": "0f2483fe",
   "metadata": {},
   "source": [
    "## Lab 3 - Bài 3"
   ]
  },
  {
   "cell_type": "code",
   "execution_count": null,
   "id": "7034990b",
   "metadata": {},
   "outputs": [],
   "source": [
    "# Code lab 3  bài 3 ở đây\n",
    "\n",
    "n = int(input(\"Nhập một số nguyên: \"))\n",
    "ok = True\n",
    "\n",
    "if n < 2:\n",
    "    ok = False\n",
    "else:\n",
    "    i = 2\n",
    "    while i < n:  \n",
    "        if n % i == 0:   \n",
    "            ok = False\n",
    "            break\n",
    "        i += 1\n",
    "\n",
    "if ok:\n",
    "    print(f\"{n} là số nguyên tố.\")\n",
    "else:\n",
    "    print(f\"{n} không phải là số nguyên tố.\")\n"
   ]
  },
  {
   "cell_type": "markdown",
   "id": "d36ea3d3",
   "metadata": {},
   "source": [
    "## Lab 3 - Bài 4"
   ]
  },
  {
   "cell_type": "code",
   "execution_count": null,
   "id": "4c707ec1",
   "metadata": {},
   "outputs": [],
   "source": [
    "# code lab 3 bài 4 ở đây\n",
    "for i in range(1, 10):  \n",
    "    print(f\"\\n--- Bảng cửu chương {i} ---\")\n",
    "    for j in range(1, 10): \n",
    "        print(f\"{i} x {j} = {i * j}\")\n"
   ]
  },
  {
   "cell_type": "code",
   "execution_count": null,
   "id": "d31dbeed",
   "metadata": {},
   "outputs": [],
   "source": [
    "for i in range(1, 10): \n",
    "    for j in range(1, 10):  \n",
    "        print(f\"{j} x {i} = {i*j:<2}\", end=\"\\t\") \n",
    "    print()  "
   ]
  },
  {
   "cell_type": "markdown",
   "id": "e2b41d4a",
   "metadata": {},
   "source": [
    "## Lab 3 - Bài 5: bài tập làm thêm"
   ]
  },
  {
   "cell_type": "code",
   "execution_count": null,
   "id": "0e0172f7",
   "metadata": {},
   "outputs": [],
   "source": [
    "# code lab 3  bài làm thêm ở đây "
   ]
  }
 ],
 "metadata": {
  "kernelspec": {
   "display_name": "Python 3",
   "language": "python",
   "name": "python3"
  },
  "language_info": {
   "name": "python",
   "version": "3.13.2"
  }
 },
 "nbformat": 4,
 "nbformat_minor": 5
}
