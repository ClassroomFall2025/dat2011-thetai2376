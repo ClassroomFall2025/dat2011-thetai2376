{
 "cells": [
  {
   "cell_type": "markdown",
   "id": "fdeff819",
   "metadata": {},
   "source": [
    "# Sinh Viên thực hiện Lab 3 ở Đây"
   ]
  },
  {
   "cell_type": "markdown",
   "id": "acc5d7dc",
   "metadata": {},
   "source": [
    "## Lab 3 - Bài 1"
   ]
  },
  {
   "cell_type": "code",
   "execution_count": 8,
   "id": "001e0507",
   "metadata": {},
   "outputs": [
    {
     "name": "stdout",
     "output_type": "stream",
     "text": [
      "Thoat khong nhap!\n",
      "[1, 2, 3, 4, 5, 6, 7, 8, 9]\n",
      "Dãy số đã sắp xếp tăng dần:\n",
      "[1, 2, 3, 4, 5, 6, 7, 8, 9]\n",
      "Giá trị lớn nhất:  1\n",
      "Giá trị nhỏ nhất:  9\n",
      "Dãy số đã sắp xếp giảm dần:\n",
      "[9, 8, 7, 6, 5, 4, 3, 2, 1]\n",
      "Giá trị lớn nhất: 9\n",
      "Giá trị nhỏ nhất: 1\n",
      "Tổng các phần tử chia hết cho 3: 18\n",
      "Số lượng phần tử chia hết cho 3: 3\n"
     ]
    }
   ],
   "source": [
    "# Code lab 3 bài 1 ở đây\n",
    "DaySo= []\n",
    "\n",
    "while True:\n",
    "    so = input(\"Nhap so: \")\n",
    "    if so.lower() == \"q\":\n",
    "        print(\"Thoat khong nhap!\")\n",
    "        break\n",
    "    else:\n",
    "        try:\n",
    "            PhanTu = int(so)\n",
    "            DaySo.append(PhanTu)\n",
    "        except ValueError:\n",
    "            print(\"Vui lòng nhập số hoặc 'Q' để thoát.\")\n",
    "print(DaySo)\n",
    "#sắp xếp dãy số tăng dần\n",
    "DaySo.sort()\n",
    "print(\"Dãy số đã sắp xếp tăng dần:\")\n",
    "print(DaySo)\n",
    "print(\"Giá trị lớn nhất: \", DaySo [0])\n",
    "print(\"Giá trị nhỏ nhất: \", DaySo [-1])\n",
    "# Sắp xếp dãy số giảm dần\n",
    "DaySo.sort(reverse=True)\n",
    "print(\"Dãy số đã sắp xếp giảm dần:\")\n",
    "print(DaySo)\n",
    "if DaySo:\n",
    "    print(\"Giá trị lớn nhất:\", DaySo[0])\n",
    "    print(\"Giá trị nhỏ nhất:\", DaySo[-1])\n",
    "else:\n",
    "    print(\"Danh sách rỗng!\")\n",
    "    \n",
    "Tong = 0\n",
    "Dem = 0\n",
    "for PhanTu in DaySo:\n",
    "    if PhanTu % 3 == 0:\n",
    "        Tong += PhanTu\n",
    "        Dem += 1\n",
    "print(\"Tổng các phần tử chia hết cho 3:\", Tong)\n",
    "print(\"Số lượng phần tử chia hết cho 3:\", Dem)"
   ]
  },
  {
   "cell_type": "markdown",
   "id": "c0835310",
   "metadata": {},
   "source": [
    "## Lab 3 - Bài 2"
   ]
  },
  {
   "cell_type": "code",
   "execution_count": 7,
   "id": "fa9cb39f",
   "metadata": {},
   "outputs": [
    {
     "name": "stdout",
     "output_type": "stream",
     "text": [
      "\n",
      "--- Thông tin sinh viên ---\n",
      "Họ tên: Chu Văn A\n",
      "Điểm: 9.0\n",
      "Xếp loại: Xuất sắc\n"
     ]
    }
   ],
   "source": [
    "# Code lab 3  bài 2 ở đây\n",
    "sinh_vien = {}\n",
    "sinh_vien[\"ho_ten\"] = input(\"Nhập họ tên sinh viên: \")\n",
    "sinh_vien[\"diem\"] = float(input(\"Nhập điểm của sinh viên: \"))\n",
    "\n",
    "def xep_loai(diem):\n",
    "    if diem < 5:\n",
    "        return \"Yếu\"\n",
    "    elif diem < 7:\n",
    "        return \"Trung bình\"\n",
    "    elif diem < 8:\n",
    "        return \"Khá\"\n",
    "    elif diem < 9:\n",
    "        return \"Giỏi\"\n",
    "    else:\n",
    "        return \"Xuất sắc\"\n",
    "\n",
    "sinh_vien[\"xep_loai\"] = xep_loai(sinh_vien[\"diem\"])\n",
    "\n",
    "print(\"\\n--- Thông tin sinh viên ---\")\n",
    "print(\"Họ tên:\", sinh_vien[\"ho_ten\"])\n",
    "print(\"Điểm:\", sinh_vien[\"diem\"])\n",
    "print(\"Xếp loại:\", sinh_vien[\"xep_loai\"])\n"
   ]
  },
  {
   "cell_type": "code",
   "execution_count": 6,
   "id": "111fc157",
   "metadata": {},
   "outputs": [
    {
     "name": "stdout",
     "output_type": "stream",
     "text": [
      "\n",
      "--- Nhập sinh viên 1 ---\n",
      "\n",
      "--- Nhập sinh viên 2 ---\n",
      "\n",
      "====== DANH SÁCH SINH VIÊN ======\n",
      "Họ tên: Lê Văn A, Điểm: 7.0, Xếp loại: Khá\n",
      "Họ tên: Nguyễn Thị B, Điểm: 9.0, Xếp loại: Xuất sắc\n"
     ]
    }
   ],
   "source": [
    "def xep_loai(diem):\n",
    "    if diem < 5:\n",
    "        return \"Yếu\"\n",
    "    elif diem < 7:\n",
    "        return \"Trung bình\"\n",
    "    elif diem < 8:\n",
    "        return \"Khá\"\n",
    "    elif diem < 9:\n",
    "        return \"Giỏi\"\n",
    "    else:\n",
    "        return \"Xuất sắc\"\n",
    "\n",
    "danh_sach = []\n",
    "\n",
    "n = int(input(\"Nhập số lượng sinh viên: \"))\n",
    "for i in range(n):\n",
    "    print(f\"\\n--- Nhập sinh viên {i+1} ---\")\n",
    "    sv = {}\n",
    "    sv[\"ho_ten\"] = input(\"Họ tên: \")\n",
    "    sv[\"diem\"] = float(input(\"Điểm: \"))\n",
    "    sv[\"xep_loai\"] = xep_loai(sv[\"diem\"])\n",
    "    danh_sach.append(sv)\n",
    "\n",
    "print(\"\\n====== DANH SÁCH SINH VIÊN ======\")\n",
    "for sv in danh_sach:\n",
    "    print(f\"Họ tên: {sv['ho_ten']}, Điểm: {sv['diem']}, Xếp loại: {sv['xep_loai']}\")\n",
    "    "
   ]
  },
  {
   "cell_type": "markdown",
   "id": "0f2483fe",
   "metadata": {},
   "source": [
    "## Lab 3 - Bài 3"
   ]
  },
  {
   "cell_type": "code",
   "execution_count": 4,
   "id": "7034990b",
   "metadata": {},
   "outputs": [
    {
     "name": "stdout",
     "output_type": "stream",
     "text": [
      "4 không phải là số nguyên tố.\n"
     ]
    }
   ],
   "source": [
    "# Code lab 3  bài 3 ở đây\n",
    "\n",
    "n = int(input(\"Nhập một số nguyên: \"))\n",
    "ok = True\n",
    "\n",
    "if n < 2:\n",
    "    ok = False\n",
    "else:\n",
    "    i = 2\n",
    "    while i < n:  \n",
    "        if n % i == 0:   \n",
    "            ok = False\n",
    "            break\n",
    "        i += 1\n",
    "\n",
    "if ok:\n",
    "    print(f\"{n} là số nguyên tố.\")\n",
    "else:\n",
    "    print(f\"{n} không phải là số nguyên tố.\")\n"
   ]
  },
  {
   "cell_type": "markdown",
   "id": "d36ea3d3",
   "metadata": {},
   "source": [
    "## Lab 3 - Bài 4"
   ]
  },
  {
   "cell_type": "code",
   "execution_count": 2,
   "id": "4c707ec1",
   "metadata": {},
   "outputs": [
    {
     "name": "stdout",
     "output_type": "stream",
     "text": [
      "\n",
      "--- Bảng cửu chương 1 ---\n",
      "1 x 1 = 1\n",
      "1 x 2 = 2\n",
      "1 x 3 = 3\n",
      "1 x 4 = 4\n",
      "1 x 5 = 5\n",
      "1 x 6 = 6\n",
      "1 x 7 = 7\n",
      "1 x 8 = 8\n",
      "1 x 9 = 9\n",
      "\n",
      "--- Bảng cửu chương 2 ---\n",
      "2 x 1 = 2\n",
      "2 x 2 = 4\n",
      "2 x 3 = 6\n",
      "2 x 4 = 8\n",
      "2 x 5 = 10\n",
      "2 x 6 = 12\n",
      "2 x 7 = 14\n",
      "2 x 8 = 16\n",
      "2 x 9 = 18\n",
      "\n",
      "--- Bảng cửu chương 3 ---\n",
      "3 x 1 = 3\n",
      "3 x 2 = 6\n",
      "3 x 3 = 9\n",
      "3 x 4 = 12\n",
      "3 x 5 = 15\n",
      "3 x 6 = 18\n",
      "3 x 7 = 21\n",
      "3 x 8 = 24\n",
      "3 x 9 = 27\n",
      "\n",
      "--- Bảng cửu chương 4 ---\n",
      "4 x 1 = 4\n",
      "4 x 2 = 8\n",
      "4 x 3 = 12\n",
      "4 x 4 = 16\n",
      "4 x 5 = 20\n",
      "4 x 6 = 24\n",
      "4 x 7 = 28\n",
      "4 x 8 = 32\n",
      "4 x 9 = 36\n",
      "\n",
      "--- Bảng cửu chương 5 ---\n",
      "5 x 1 = 5\n",
      "5 x 2 = 10\n",
      "5 x 3 = 15\n",
      "5 x 4 = 20\n",
      "5 x 5 = 25\n",
      "5 x 6 = 30\n",
      "5 x 7 = 35\n",
      "5 x 8 = 40\n",
      "5 x 9 = 45\n",
      "\n",
      "--- Bảng cửu chương 6 ---\n",
      "6 x 1 = 6\n",
      "6 x 2 = 12\n",
      "6 x 3 = 18\n",
      "6 x 4 = 24\n",
      "6 x 5 = 30\n",
      "6 x 6 = 36\n",
      "6 x 7 = 42\n",
      "6 x 8 = 48\n",
      "6 x 9 = 54\n",
      "\n",
      "--- Bảng cửu chương 7 ---\n",
      "7 x 1 = 7\n",
      "7 x 2 = 14\n",
      "7 x 3 = 21\n",
      "7 x 4 = 28\n",
      "7 x 5 = 35\n",
      "7 x 6 = 42\n",
      "7 x 7 = 49\n",
      "7 x 8 = 56\n",
      "7 x 9 = 63\n",
      "\n",
      "--- Bảng cửu chương 8 ---\n",
      "8 x 1 = 8\n",
      "8 x 2 = 16\n",
      "8 x 3 = 24\n",
      "8 x 4 = 32\n",
      "8 x 5 = 40\n",
      "8 x 6 = 48\n",
      "8 x 7 = 56\n",
      "8 x 8 = 64\n",
      "8 x 9 = 72\n",
      "\n",
      "--- Bảng cửu chương 9 ---\n",
      "9 x 1 = 9\n",
      "9 x 2 = 18\n",
      "9 x 3 = 27\n",
      "9 x 4 = 36\n",
      "9 x 5 = 45\n",
      "9 x 6 = 54\n",
      "9 x 7 = 63\n",
      "9 x 8 = 72\n",
      "9 x 9 = 81\n"
     ]
    }
   ],
   "source": [
    "# code lab 3 bài 4 ở đây\n",
    "for i in range(1, 10):  \n",
    "    print(f\"\\n--- Bảng cửu chương {i} ---\")\n",
    "    for j in range(1, 10): \n",
    "        print(f\"{i} x {j} = {i * j}\")\n"
   ]
  },
  {
   "cell_type": "code",
   "execution_count": 1,
   "id": "d31dbeed",
   "metadata": {},
   "outputs": [
    {
     "name": "stdout",
     "output_type": "stream",
     "text": [
      "1 x 1 = 1 \t2 x 1 = 2 \t3 x 1 = 3 \t4 x 1 = 4 \t5 x 1 = 5 \t6 x 1 = 6 \t7 x 1 = 7 \t8 x 1 = 8 \t9 x 1 = 9 \t\n",
      "1 x 2 = 2 \t2 x 2 = 4 \t3 x 2 = 6 \t4 x 2 = 8 \t5 x 2 = 10\t6 x 2 = 12\t7 x 2 = 14\t8 x 2 = 16\t9 x 2 = 18\t\n",
      "1 x 3 = 3 \t2 x 3 = 6 \t3 x 3 = 9 \t4 x 3 = 12\t5 x 3 = 15\t6 x 3 = 18\t7 x 3 = 21\t8 x 3 = 24\t9 x 3 = 27\t\n",
      "1 x 4 = 4 \t2 x 4 = 8 \t3 x 4 = 12\t4 x 4 = 16\t5 x 4 = 20\t6 x 4 = 24\t7 x 4 = 28\t8 x 4 = 32\t9 x 4 = 36\t\n",
      "1 x 5 = 5 \t2 x 5 = 10\t3 x 5 = 15\t4 x 5 = 20\t5 x 5 = 25\t6 x 5 = 30\t7 x 5 = 35\t8 x 5 = 40\t9 x 5 = 45\t\n",
      "1 x 6 = 6 \t2 x 6 = 12\t3 x 6 = 18\t4 x 6 = 24\t5 x 6 = 30\t6 x 6 = 36\t7 x 6 = 42\t8 x 6 = 48\t9 x 6 = 54\t\n",
      "1 x 7 = 7 \t2 x 7 = 14\t3 x 7 = 21\t4 x 7 = 28\t5 x 7 = 35\t6 x 7 = 42\t7 x 7 = 49\t8 x 7 = 56\t9 x 7 = 63\t\n",
      "1 x 8 = 8 \t2 x 8 = 16\t3 x 8 = 24\t4 x 8 = 32\t5 x 8 = 40\t6 x 8 = 48\t7 x 8 = 56\t8 x 8 = 64\t9 x 8 = 72\t\n",
      "1 x 9 = 9 \t2 x 9 = 18\t3 x 9 = 27\t4 x 9 = 36\t5 x 9 = 45\t6 x 9 = 54\t7 x 9 = 63\t8 x 9 = 72\t9 x 9 = 81\t\n"
     ]
    }
   ],
   "source": [
    "for i in range(1, 10): \n",
    "    for j in range(1, 10):  \n",
    "        print(f\"{j} x {i} = {i*j:<2}\", end=\"\\t\") \n",
    "    print()  "
   ]
  },
  {
   "cell_type": "markdown",
   "id": "e2b41d4a",
   "metadata": {},
   "source": [
    "## Lab 3 - Bài 5: bài tập làm thêm"
   ]
  },
  {
   "cell_type": "code",
   "execution_count": null,
   "id": "0e0172f7",
   "metadata": {},
   "outputs": [],
   "source": [
    "# code lab 3  bài làm thêm ở đây "
   ]
  }
 ],
 "metadata": {
  "kernelspec": {
   "display_name": "Python 3",
   "language": "python",
   "name": "python3"
  },
  "language_info": {
   "codemirror_mode": {
    "name": "ipython",
    "version": 3
   },
   "file_extension": ".py",
   "mimetype": "text/x-python",
   "name": "python",
   "nbconvert_exporter": "python",
   "pygments_lexer": "ipython3",
   "version": "3.13.7"
  }
 },
 "nbformat": 4,
 "nbformat_minor": 5
}
