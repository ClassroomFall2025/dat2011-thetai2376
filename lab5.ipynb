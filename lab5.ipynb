{
 "cells": [
  {
   "cell_type": "markdown",
   "id": "fdeff819",
   "metadata": {},
   "source": [
    "# Sinh Viên thực hiện Lab 5 ở Đây"
   ]
  },
  {
   "cell_type": "markdown",
   "id": "acc5d7dc",
   "metadata": {},
   "source": [
    "## Lab 5 - Bài 1"
   ]
  },
  {
   "cell_type": "code",
   "execution_count": null,
   "id": "001e0507",
   "metadata": {},
   "outputs": [],
   "source": [
    "# Code lab 5 bài 1 ở đây\n",
    "class SanPham:\n",
    "    def __init__(self):\n",
    "        self.ten = \"\"\n",
    "        self.don_gia = 0\n",
    "        self.giam_gia = 0\n",
    "\n",
    "    def tinh_thue(self):\n",
    "        thue = self.don_gia * 0.1\n",
    "        return thue\n",
    "\n",
    "    def nhap_thong_tin(self):\n",
    "        self.ten = input(\"Nhập tên sản phẩm: \")\n",
    "        self.don_gia = float(input(\"Nhập đơn giá: \"))\n",
    "        self.giam_gia = float(input(\"Nhập giảm giá: \"))\n",
    "\n",
    "    def xuat_thong_tin(self):\n",
    "        print(\"----------------------------\")\n",
    "        print(\"Tên sản phẩm:\", self.ten)\n",
    "        print(\"Đơn giá:\", self.don_gia)\n",
    "        print(\"Giảm giá:\", self.giam_gia)\n",
    "        print(\"Thuế nhập khẩu (10%):\", self.tinh_thue())\n"
   ]
  },
  {
   "cell_type": "markdown",
   "id": "c0835310",
   "metadata": {},
   "source": [
    "## Lab 5 - Bài 2"
   ]
  },
  {
   "cell_type": "code",
   "execution_count": 7,
   "id": "fa9cb39f",
   "metadata": {},
   "outputs": [
    {
     "name": "stdout",
     "output_type": "stream",
     "text": [
      "=== NHẬP THÔNG TIN 2 SẢN PHẨM ===\n",
      "\n",
      "Nhập sản phẩm thứ 1:\n",
      "\n",
      "Nhập sản phẩm thứ 2:\n",
      "\n",
      "=== XUẤT THÔNG TIN 2 SẢN PHẨM ===\n",
      "----------------------------\n",
      "Tên sản phẩm: Bánh quy\n",
      "Đơn giá: 20000.0\n",
      "Giảm giá: 5000.0\n",
      "Thuế nhập khẩu (10%): 2000.0\n",
      "----------------------------\n",
      "Tên sản phẩm: Mì gói\n",
      "Đơn giá: 13000.0\n",
      "Giảm giá: 2000.0\n",
      "Thuế nhập khẩu (10%): 1300.0\n"
     ]
    }
   ],
   "source": [
    "# Code lab 5  bài 2 ở đây\n",
    "\n",
    "print(\"=== NHẬP THÔNG TIN 2 SẢN PHẨM ===\")\n",
    "sp1 = SanPham()\n",
    "sp2 = SanPham()\n",
    "\n",
    "print(\"\\nNhập sản phẩm thứ 1:\")\n",
    "sp1.nhap_thong_tin()\n",
    "\n",
    "print(\"\\nNhập sản phẩm thứ 2:\")\n",
    "sp2.nhap_thong_tin()\n",
    "\n",
    "print(\"\\n=== XUẤT THÔNG TIN 2 SẢN PHẨM ===\")\n",
    "sp1.xuat_thong_tin()\n",
    "sp2.xuat_thong_tin()\n"
   ]
  },
  {
   "cell_type": "markdown",
   "id": "0f2483fe",
   "metadata": {},
   "source": [
    "## Lab 5 - Bài 3"
   ]
  },
  {
   "cell_type": "code",
   "execution_count": 8,
   "id": "7034990b",
   "metadata": {},
   "outputs": [
    {
     "name": "stdout",
     "output_type": "stream",
     "text": [
      "=== NHẬP THÔNG TIN 2 SẢN PHẨM ===\n",
      "\n",
      "Nhập sản phẩm thứ 1:\n",
      "\n",
      "Nhập sản phẩm thứ 2:\n",
      "\n",
      "=== XUẤT THÔNG TIN 2 SẢN PHẨM ===\n",
      "-----------------------------\n",
      "Tên sản phẩm: Bánh Quy\n",
      "Đơn giá: 30000.0\n",
      "Giảm giá: 4000.0\n",
      "Thuế nhập khẩu (10%): 3000.0\n",
      "-----------------------------\n",
      "Tên sản phẩm: Sữa\n",
      "Đơn giá: 40000.0\n",
      "Giảm giá: 3000.0\n",
      "Thuế nhập khẩu (10%): 4000.0\n"
     ]
    }
   ],
   "source": [
    "# Code lab 5  bài 3 ở đây\n",
    "class SanPham:\n",
    "    def __init__(self):\n",
    "        self.__ten_sp = \"\"\n",
    "        self.__gia = 0\n",
    "        self.__giam_gia = 0\n",
    "\n",
    "    def get_ten_sp(self):\n",
    "        return self.__ten_sp\n",
    "\n",
    "    def set_ten_sp(self, ten_sp):\n",
    "        self.__ten_sp = ten_sp\n",
    "\n",
    "    def get_gia(self):\n",
    "        return self.__gia\n",
    "\n",
    "    def set_gia(self, gia):\n",
    "        self.__gia = gia\n",
    "\n",
    "    def get_giam_gia(self):\n",
    "        return self.__giam_gia\n",
    "\n",
    "    def set_giam_gia(self, giam_gia):\n",
    "        self.__giam_gia = giam_gia\n",
    "\n",
    "   \n",
    "    def tinh_thue(self):\n",
    "        return self.__gia * 0.1\n",
    "\n",
    "    \n",
    "    def nhap(self):\n",
    "        self.__ten_sp = input(\"Nhập tên sản phẩm: \")\n",
    "        self.__gia = float(input(\"Nhập đơn giá: \"))\n",
    "        self.__giam_gia = float(input(\"Nhập giảm giá: \"))\n",
    "\n",
    "    def xuat(self):\n",
    "        print(\"-----------------------------\")\n",
    "        print(\"Tên sản phẩm:\", self.__ten_sp)\n",
    "        print(\"Đơn giá:\", self.__gia)\n",
    "        print(\"Giảm giá:\", self.__giam_gia)\n",
    "        print(\"Thuế nhập khẩu (10%):\", self.tinh_thue())\n",
    "\n",
    "\n",
    "print(\"=== NHẬP THÔNG TIN 2 SẢN PHẨM ===\")\n",
    "sp1 = SanPham()\n",
    "sp2 = SanPham()\n",
    "\n",
    "print(\"\\nNhập sản phẩm thứ 1:\")\n",
    "sp1.nhap()\n",
    "print(\"\\nNhập sản phẩm thứ 2:\")\n",
    "sp2.nhap()\n",
    "\n",
    "print(\"\\n=== XUẤT THÔNG TIN 2 SẢN PHẨM ===\")\n",
    "sp1.xuat()\n",
    "sp2.xuat()\n"
   ]
  },
  {
   "cell_type": "markdown",
   "id": "d36ea3d3",
   "metadata": {},
   "source": [
    "## Lab 5 - Bài 4"
   ]
  },
  {
   "cell_type": "code",
   "execution_count": null,
   "id": "4c707ec1",
   "metadata": {},
   "outputs": [],
   "source": [
    "\n",
    "class SanPham:\n",
    "    def __init__(self, ten_sp, gia, giam_gia):\n",
    "        self.__ten_sp = ten_sp\n",
    "        self.__gia = gia\n",
    "        self.__giam_gia = giam_gia\n",
    "\n",
    "    def tinh_thue(self):\n",
    "        return self.__gia * 0.1\n",
    "\n",
    "    def xuat(self):\n",
    "        print(\"-----------------------------\")\n",
    "        print(\"Tên sản phẩm:\", self.__ten_sp)\n",
    "        print(\"Đơn giá:\", self.__gia)\n",
    "        print(\"Giảm giá:\", self.__giam_gia)\n",
    "        print(\"Thuế nhập khẩu (10%):\", self.tinh_thue())\n",
    "\n",
    "\n",
    "print(\"=== NHẬP THÔNG TIN 2 SẢN PHẨM ===\")\n",
    "\n",
    "ten1 = input(\"Nhập tên sản phẩm 1: \")\n",
    "gia1 = float(input(\"Nhập đơn giá 1: \"))\n",
    "giam1 = float(input(\"Nhập giảm giá 1: \"))\n",
    "\n",
    "ten2 = input(\"\\nNhập tên sản phẩm 2: \")\n",
    "gia2 = float(input(\"Nhập đơn giá 2: \"))\n",
    "giam2 = float(input(\"Nhập giảm giá 2: \"))\n",
    "\n",
    "\n",
    "sp1 = SanPham(ten1, gia1, giam1)\n",
    "sp2 = SanPham(ten2, gia2, giam2)\n",
    "\n",
    "print(\"\\n=== XUẤT THÔNG TIN 2 SẢN PHẨM ===\")\n",
    "sp1.xuat()\n",
    "sp2.xuat()\n"
   ]
  },
  {
   "cell_type": "markdown",
   "id": "e2b41d4a",
   "metadata": {},
   "source": [
    "## Lab 5 - Bài 5: bài tập làm thêm"
   ]
  },
  {
   "cell_type": "code",
   "execution_count": null,
   "id": "0e0172f7",
   "metadata": {},
   "outputs": [],
   "source": [
    "# code lab 5  bài làm thêm ở đây "
   ]
  }
 ],
 "metadata": {
  "kernelspec": {
   "display_name": "Python 3",
   "language": "python",
   "name": "python3"
  },
  "language_info": {
   "codemirror_mode": {
    "name": "ipython",
    "version": 3
   },
   "file_extension": ".py",
   "mimetype": "text/x-python",
   "name": "python",
   "nbconvert_exporter": "python",
   "pygments_lexer": "ipython3",
   "version": "3.13.7"
  }
 },
 "nbformat": 4,
 "nbformat_minor": 5
}
