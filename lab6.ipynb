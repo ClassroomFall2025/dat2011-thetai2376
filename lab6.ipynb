{
 "cells": [
  {
   "cell_type": "markdown",
   "id": "fdeff819",
   "metadata": {},
   "source": [
    "# Sinh Viên thực hiện Lab 6 ở Đây"
   ]
  },
  {
   "cell_type": "markdown",
   "id": "acc5d7dc",
   "metadata": {},
   "source": [
    "## Lab 6 - Bài 1"
   ]
  },
  {
   "cell_type": "code",
   "execution_count": null,
   "id": "001e0507",
   "metadata": {},
   "outputs": [
    {
     "name": "stdout",
     "output_type": "stream",
     "text": [
      "=== NHẬP THÔNG TIN HÌNH CHỮ NHẬT 1 ===\n",
      "\n",
      "=== NHẬP THÔNG TIN HÌNH CHỮ NHẬT 2 ===\n",
      "\n",
      "=== NHẬP THÔNG TIN HÌNH VUÔNG ===\n",
      "\n",
      "Hình chữ nhật:\n",
      " - Chiều dài: 5.0\n",
      " - Chiều rộng: 6.0\n",
      " - Chu vi: 22.0\n",
      " - Diện tích: 30.0\n",
      "\n",
      "Hình chữ nhật:\n",
      " - Chiều dài: 4.0\n",
      " - Chiều rộng: 3.0\n",
      " - Chu vi: 14.0\n",
      " - Diện tích: 12.0\n",
      "\n",
      "Hình vuông:\n",
      " - Cạnh: 7.0\n",
      " - Chu vi: 28.0\n",
      " - Diện tích: 49.0\n"
     ]
    }
   ],
   "source": [
    "# Code lab 6 bài 1 ở đây\n",
    "\n",
    "class ChuNhat:\n",
    "    def __init__(self, dai, rong):\n",
    "        self.dai = dai\n",
    "        self.rong = rong\n",
    "\n",
    "    def get_chu_vi(self):\n",
    "        return (self.dai + self.rong) * 2\n",
    "\n",
    "    def get_dien_tich(self):\n",
    "        return self.dai * self.rong\n",
    "\n",
    "    def xuat(self):\n",
    "        print(f\"\\nHình chữ nhật:\")\n",
    "        print(f\" - Chiều dài: {self.dai}\")\n",
    "        print(f\" - Chiều rộng: {self.rong}\")\n",
    "        print(f\" - Chu vi: {self.get_chu_vi()}\")\n",
    "        print(f\" - Diện tích: {self.get_dien_tich()}\")\n",
    "\n",
    "\n",
    "class Vuong(ChuNhat):\n",
    "    def __init__(self, canh):\n",
    "        super().__init__(canh, canh)\n",
    "        self.canh = canh\n",
    "\n",
    "    def xuat(self):\n",
    "        print(f\"\\nHình vuông:\")\n",
    "        print(f\" - Cạnh: {self.canh}\")\n",
    "        print(f\" - Chu vi: {self.get_chu_vi()}\")\n",
    "        print(f\" - Diện tích: {self.get_dien_tich()}\")\n",
    "\n",
    "\n",
    "\n",
    "print(\"=== NHẬP THÔNG TIN HÌNH CHỮ NHẬT 1 ===\")\n",
    "d1 = float(input(\"Nhập chiều dài: \"))\n",
    "r1 = float(input(\"Nhập chiều rộng: \"))\n",
    "cn1 = ChuNhat(d1, r1)\n",
    "\n",
    "print(\"\\n=== NHẬP THÔNG TIN HÌNH CHỮ NHẬT 2 ===\")\n",
    "d2 = float(input(\"Nhập chiều dài: \"))\n",
    "r2 = float(input(\"Nhập chiều rộng: \"))\n",
    "cn2 = ChuNhat(d2, r2)\n",
    "\n",
    "print(\"\\n=== NHẬP THÔNG TIN HÌNH VUÔNG ===\")\n",
    "c = float(input(\"Nhập cạnh hình vuông: \"))\n",
    "vu = Vuong(c)\n",
    "\n",
    "cn1.xuat()\n",
    "cn2.xuat()\n",
    "vu.xuat()\n"
   ]
  },
  {
   "cell_type": "markdown",
   "id": "c0835310",
   "metadata": {},
   "source": [
    "## Lab 6 - Bài 2"
   ]
  },
  {
   "cell_type": "code",
   "execution_count": 4,
   "id": "fa9cb39f",
   "metadata": {},
   "outputs": [
    {
     "ename": "ModuleNotFoundError",
     "evalue": "No module named 'SinhVienPoly'",
     "output_type": "error",
     "traceback": [
      "\u001b[31m---------------------------------------------------------------------------\u001b[39m",
      "\u001b[31mModuleNotFoundError\u001b[39m                       Traceback (most recent call last)",
      "\u001b[36mCell\u001b[39m\u001b[36m \u001b[39m\u001b[32mIn[4]\u001b[39m\u001b[32m, line 13\u001b[39m\n\u001b[32m     11\u001b[39m         \u001b[38;5;28mprint\u001b[39m(\u001b[33mf\u001b[39m\u001b[33m\"\u001b[39m\u001b[33mHọ tên: \u001b[39m\u001b[38;5;132;01m{\u001b[39;00m\u001b[38;5;28mself\u001b[39m.ho_ten\u001b[38;5;132;01m}\u001b[39;00m\u001b[33m\"\u001b[39m)\n\u001b[32m     12\u001b[39m         \u001b[38;5;28mprint\u001b[39m(\u001b[33mf\u001b[39m\u001b[33m\"\u001b[39m\u001b[33mĐiểm trung bình: \u001b[39m\u001b[38;5;132;01m{\u001b[39;00m\u001b[38;5;28mself\u001b[39m.get_diem()\u001b[38;5;132;01m:\u001b[39;00m\u001b[33m.2f\u001b[39m\u001b[38;5;132;01m}\u001b[39;00m\u001b[33m\"\u001b[39m)\n\u001b[32m---> \u001b[39m\u001b[32m13\u001b[39m \u001b[38;5;28;01mimport\u001b[39;00m\u001b[38;5;250m \u001b[39m\u001b[34;01mimportlib\u001b[39;00m,\u001b[38;5;250m \u001b[39m\u001b[34;01mSinhVienPoly\u001b[39;00m\n\u001b[32m     14\u001b[39m importlib.reload(SinhVienPoly)\n\u001b[32m     15\u001b[39m \u001b[38;5;28;01mfrom\u001b[39;00m\u001b[38;5;250m \u001b[39m\u001b[34;01mSinhVienPoly\u001b[39;00m\u001b[38;5;250m \u001b[39m\u001b[38;5;28;01mimport\u001b[39;00m SinhVienIT, SinhVienBiz, SinhVien\n",
      "\u001b[31mModuleNotFoundError\u001b[39m: No module named 'SinhVienPoly'"
     ]
    }
   ],
   "source": [
    "# Code lab 6  bài 2 ở đây\n",
    "class SinhVienPoly:\n",
    "    def __init__(self, ho_ten):\n",
    "        self.ho_ten = ho_ten\n",
    "\n",
    "    def get_diem(self):\n",
    "       \n",
    "        return 0\n",
    "\n",
    "    def xuat_thong_tin(self):\n",
    "        print(f\"Họ tên: {self.ho_ten}\")\n",
    "        print(f\"Điểm trung bình: {self.get_diem():.2f}\")\n",
    "import importlib, SinhVienPoly\n",
    "importlib.reload(SinhVienPoly)\n",
    "from SinhVienPoly import SinhVienIT, SinhVienBiz, SinhVien\n",
    "sv1 = SinhVienIT(\"Nguyễn Văn A\",\"CNTT\",8,7,9)\n",
    "sv1.xuat()"
   ]
  },
  {
   "cell_type": "markdown",
   "id": "0f2483fe",
   "metadata": {},
   "source": [
    "## Lab 6 - Bài 3"
   ]
  },
  {
   "cell_type": "code",
   "execution_count": 1,
   "id": "7034990b",
   "metadata": {},
   "outputs": [
    {
     "name": "stdout",
     "output_type": "stream",
     "text": [
      "Họ tên: Nguyễn Văn A\n",
      "Điểm trung bình: 7.25\n",
      "----\n",
      "Họ tên: Trần Thị B\n",
      "Điểm trung bình: 8.67\n"
     ]
    }
   ],
   "source": [
    "# Code lab 6  bài 3 ở đây\n",
    "class SinhVienPoly:\n",
    "    def __init__(self, ho_ten):\n",
    "        self.ho_ten = ho_ten\n",
    "\n",
    "    def get_diem(self):\n",
    "       \n",
    "        return 0\n",
    "\n",
    "    def xuat_thong_tin(self):\n",
    "        print(f\"Họ tên: {self.ho_ten}\")\n",
    "        print(f\"Điểm trung bình: {self.get_diem():.2f}\")\n",
    "\n",
    "\n",
    "class SinhVienIT(SinhVienPoly):\n",
    "    def __init__(self, ho_ten, java, html, css):\n",
    "        super().__init__(ho_ten)\n",
    "        self.java = java\n",
    "        self.html = html\n",
    "        self.css = css\n",
    "\n",
    "    def get_diem(self):\n",
    "        return (2 * self.java + self.html + self.css) / 4\n",
    "\n",
    "\n",
    "class SinhVienBiz(SinhVienPoly):\n",
    "    def __init__(self, ho_ten, marketing, sales):\n",
    "        super().__init__(ho_ten)\n",
    "        self.marketing = marketing\n",
    "        self.sales = sales\n",
    "\n",
    "    def get_diem(self):\n",
    "        return (2 * self.marketing + self.sales) / 3\n",
    "\n",
    "if __name__ == \"__main__\":\n",
    "    sv1 = SinhVienIT(\"Nguyễn Văn A\", java=8, html=7, css=6)\n",
    "    sv2 = SinhVienBiz(\"Trần Thị B\", marketing=9, sales=8)\n",
    "\n",
    "    sv1.xuat_thong_tin()\n",
    "    print(\"----\")\n",
    "    sv2.xuat_thong_tin()\n"
   ]
  },
  {
   "cell_type": "markdown",
   "id": "d36ea3d3",
   "metadata": {},
   "source": [
    "## Lab 6 - Bài 4"
   ]
  },
  {
   "cell_type": "code",
   "execution_count": null,
   "id": "4c707ec1",
   "metadata": {},
   "outputs": [],
   "source": [
    "# code lab 6 bài 4 ở đây\n",
    "class SinhVien:\n",
    "    def __init__(self, ho_ten, diem):\n",
    "        self.ho_ten = ho_ten\n",
    "        self.diem = diem\n",
    "\n",
    "    def xep_loai(self):\n",
    "        if self.diem >= 8:\n",
    "            return \"Giỏi\"\n",
    "        elif self.diem >= 6.5:\n",
    "            return \"Khá\"\n",
    "        elif self.diem >= 5:\n",
    "            return \"Trung bình\"\n",
    "        else:\n",
    "            return \"Yếu\"\n",
    "\n",
    "    def xuat_thong_tin(self):\n",
    "        print(f\"Họ tên: {self.ho_ten}, Điểm: {self.diem}, Học lực: {self.xep_loai()}\")\n",
    "\n",
    "\n",
    "def menu():\n",
    "    ds = []  \n",
    "    while True:\n",
    "        print(\"\\n=== QUẢN LÝ SINH VIÊN ===\")\n",
    "        print(\"1. Nhập danh sách sinh viên\")\n",
    "        print(\"2. Xuất thông tin danh sách sinh viên\")\n",
    "        print(\"3. Xuất danh sách sinh viên có học lực giỏi\")\n",
    "        print(\"4. Sắp xếp danh sách sinh viên theo điểm\")\n",
    "        print(\"5. Kết thúc\")\n",
    "        chon = input(\"Mời chọn (1-5): \")\n",
    "\n",
    "        if chon == \"1\":\n",
    "            n = int(input(\"Nhập số lượng sinh viên: \"))\n",
    "            for i in range(n):\n",
    "                ho_ten = input(f\"Nhập họ tên sinh viên {i+1}: \")\n",
    "                diem = float(input(\"Nhập điểm: \"))\n",
    "                sv = SinhVien(ho_ten, diem)\n",
    "                ds.append(sv)\n",
    "\n",
    "        elif chon == \"2\":\n",
    "            print(\"\\n--- DANH SÁCH SINH VIÊN ---\")\n",
    "            for sv in ds:\n",
    "                sv.xuat_thong_tin()\n",
    "\n",
    "        elif chon == \"3\":\n",
    "            print(\"\\n--- DANH SÁCH SINH VIÊN GIỎI ---\")\n",
    "            for sv in ds:\n",
    "                if sv.xep_loai() == \"Giỏi\":\n",
    "                    sv.xuat_thong_tin()\n",
    "\n",
    "        elif chon == \"4\":\n",
    "            ds.sort(key=lambda sv: sv.diem, reverse=True)\n",
    "            print(\"\\n--- DANH SÁCH SAU KHI SẮP XẾP THEO ĐIỂM ---\")\n",
    "            for sv in ds:\n",
    "                sv.xuat_thong_tin()\n",
    "\n",
    "        elif chon == \"5\":\n",
    "            print(\"Kết thúc chương trình!\")\n",
    "            break\n",
    "        else:\n",
    "            print(\"Lựa chọn không hợp lệ, vui lòng nhập từ 1-5!\")\n",
    "\n",
    "\n",
    "if __name__ == \"__main__\":\n",
    "    menu()\n"
   ]
  },
  {
   "cell_type": "markdown",
   "id": "e2b41d4a",
   "metadata": {},
   "source": [
    "## Lab 6 - Bài 5: bài tập làm thêm"
   ]
  },
  {
   "cell_type": "code",
   "execution_count": null,
   "id": "0e0172f7",
   "metadata": {},
   "outputs": [],
   "source": [
    "# code lab 6  bài làm thêm ở đây "
   ]
  }
 ],
 "metadata": {
  "kernelspec": {
   "display_name": "Python 3",
   "language": "python",
   "name": "python3"
  },
  "language_info": {
   "codemirror_mode": {
    "name": "ipython",
    "version": 3
   },
   "file_extension": ".py",
   "mimetype": "text/x-python",
   "name": "python",
   "nbconvert_exporter": "python",
   "pygments_lexer": "ipython3",
   "version": "3.13.7"
  }
 },
 "nbformat": 4,
 "nbformat_minor": 5
}
